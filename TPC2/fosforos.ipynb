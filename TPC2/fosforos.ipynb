{
 "cells": [
  {
   "cell_type": "markdown",
   "id": "bee3b201",
   "metadata": {},
   "source": [
    "### TPC 2  - Jogo dos fósforos\n",
    "\n",
    "- Jogo dos fósforos contra o computador; \n",
    "- Se o computador jogar em 2º lugar ganha sempre;\n",
    "- Se o jogador 1 fizer um erro de raciocínio o computador é automaticamente vencedor."
   ]
  },
  {
   "cell_type": "code",
   "execution_count": null,
   "id": "1b5f7497",
   "metadata": {},
   "outputs": [
    {
     "name": "stdout",
     "output_type": "stream",
     "text": [
      "JOGO DOS FÓSFOROS \n",
      "Quem ficar com o último fósforo perde.\n",
      "Fósforos restantes: 21\n",
      "O computador tirou 1 fósforo(s)\n",
      "Fósforos restantes: 20\n",
      "O computador tirou 4 fósforo(s)\n",
      "Fósforos restantes: 16\n",
      "O computador tirou 1 fósforo(s)\n",
      "Fósforos restantes: 15\n",
      "O computador tirou 1 fósforo(s)\n",
      "Fósforos restantes: 14\n",
      "O computador tirou 4 fósforo(s)\n",
      "Fósforos restantes: 10\n",
      "O computador tirou 1 fósforo(s)\n",
      "Fósforos restantes: 9\n",
      "O computador tirou 4 fósforo(s)\n",
      "Fósforos restantes: 5\n",
      "O computador tirou 4 fósforo(s)\n",
      "Fósforos restantes: 1\n",
      "O computador tirou 1 fósforo(s)\n",
      "O computador ficou com o último fósforo e perdeu.\n",
      "A sair do jogo. Até mais!\n"
     ]
    }
   ],
   "source": [
    "import random\n",
    "\n",
    "\n",
    "fosforosajogar = 4\n",
    "\n",
    "def jogofosforos():\n",
    "    fosforostotal = 21\n",
    "    jogador = input(\"Quem começa a jogar? o jogador ou o computador?\")\n",
    "\n",
    "    print(\" JOGO DOS FÓSFOROS \")\n",
    "    print(\"Quem ficar com o último fósforo perde.\")\n",
    "\n",
    "    while fosforostotal > 0:\n",
    "        print(f\"Fósforos restantes: {fosforostotal}\")\n",
    "\n",
    "        if jogador == \"humano\":\n",
    "            jogada = int(input(f\"Tira de 1 a {min(fosforosajogar, fosforostotal)} fósforos: \"))\n",
    "        else:\n",
    "            if fosforostotal <= fosforosajogar + 1:\n",
    "                if fosforostotal > 1:\n",
    "                    jogada = fosforostotal - 1\n",
    "                else: \n",
    "                    jogada = 1\n",
    "            else:\n",
    "                resto = fosforostotal % (fosforosajogar + 1)\n",
    "                if resto != 0:\n",
    "                    jogada = resto\n",
    "                else:\n",
    "                    jogada = random.randint(1, min(fosforosajogar, fosforostotal))\n",
    "        print(f\"O computador tirou {jogada} fósforo(s)\")\n",
    "\n",
    "        fosforostotal = fosforostotal - jogada\n",
    "\n",
    "        if fosforostotal == 0:\n",
    "            print(f\"O {jogador} ficou com o último fósforo e perdeu.\")\n",
    "            return\n",
    "    \n",
    "        if jogador == \"humano\":\n",
    "            jogador = \"computador\"\n",
    "        else:\n",
    "            jogador = \"humano\"\n",
    "\n",
    "resposta = \"n\" and resposta = \"N\"\n",
    "while resposta != \"s\" and resposta != \"S\":\n",
    "    jogofosforos()\n",
    "    resposta = input(\"Deseja sair da aplicação? (S/N)\")\n",
    "\n",
    "print(\"A sair do jogo. Até mais!\")\n",
    "\n"
   ]
  }
 ],
 "metadata": {
  "kernelspec": {
   "display_name": "Python 3",
   "language": "python",
   "name": "python3"
  },
  "language_info": {
   "codemirror_mode": {
    "name": "ipython",
    "version": 3
   },
   "file_extension": ".py",
   "mimetype": "text/x-python",
   "name": "python",
   "nbconvert_exporter": "python",
   "pygments_lexer": "ipython3",
   "version": "3.13.7"
  }
 },
 "nbformat": 4,
 "nbformat_minor": 5
}
